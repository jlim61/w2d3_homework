{
 "cells": [
  {
   "cell_type": "markdown",
   "metadata": {},
   "source": [
    "# Data Collections 2 (Dictionaries, Sets) and Importing Modules"
   ]
  },
  {
   "cell_type": "markdown",
   "metadata": {},
   "source": [
    "## Tasks Today:\n",
    "\n",
    "1) Dictionary <br>\n",
    " &nbsp;&nbsp;&nbsp;&nbsp; a) Declaring (key, value) <br>\n",
    " &nbsp;&nbsp;&nbsp;&nbsp; b) Accessing Values <br>\n",
    " &nbsp;&nbsp;&nbsp;&nbsp; ------ Exercise #1 - Print the eye color of each person in a double nested dict <br>\n",
    " &nbsp;&nbsp;&nbsp;&nbsp; c) Adding New Pairs <br>\n",
    " &nbsp;&nbsp;&nbsp;&nbsp; d) Modifying Values <br>\n",
    " &nbsp;&nbsp;&nbsp;&nbsp; e) Removing Key, Value Pairs <br>\n",
    " &nbsp;&nbsp;&nbsp;&nbsp; f) Looping a Dictionary <br>\n",
    " &nbsp;&nbsp;&nbsp;&nbsp; g) Looping Only Keys <br>\n",
    " &nbsp;&nbsp;&nbsp;&nbsp; h) Looping Only Values <br>\n",
    " &nbsp;&nbsp;&nbsp;&nbsp; ------ Exercise #2 - Create a Function that Prints All Key Value Pairs within a print .format()  <br>\n",
    " &nbsp;&nbsp;&nbsp;&nbsp; i) sorted() <br>\n",
    " &nbsp;&nbsp;&nbsp;&nbsp; j) Lists with Dictionaries <br>\n",
    " &nbsp;&nbsp;&nbsp;&nbsp; k) Dictionaries with Lists <br>\n",
    " &nbsp;&nbsp;&nbsp;&nbsp; l) Dictionaries with Dictionaries <br>\n",
    " &nbsp;&nbsp;&nbsp;&nbsp; ------ Exercise #3 - Write a Function that asks someone's name and address, and then stores that into a dictionary, which prints all names and addresses after they're done putting information in...  <br>\n",
    "2) Dictionaries vs. Lists (over time)<br>\n",
    "3) Set <br>\n",
    " &nbsp;&nbsp;&nbsp;&nbsp; a) Declaring <br>\n",
    " &nbsp;&nbsp;&nbsp;&nbsp; b) .add() <br>\n",
    " &nbsp;&nbsp;&nbsp;&nbsp; c) .remove() <br>\n",
    " &nbsp;&nbsp;&nbsp;&nbsp; d) .union() <br>\n",
    " &nbsp;&nbsp;&nbsp;&nbsp; e) .intersection() <br>\n",
    " &nbsp;&nbsp;&nbsp;&nbsp; f) .difference() <br>\n",
    " &nbsp;&nbsp;&nbsp;&nbsp; g) Frozen Set <br>\n",
    "4) Modules <br>\n",
    " &nbsp;&nbsp;&nbsp;&nbsp; a) Importing Entire Modules <br>\n",
    " &nbsp;&nbsp;&nbsp;&nbsp; b) Importing Methods Only <br>\n",
    " &nbsp;&nbsp;&nbsp;&nbsp; c) Using the 'as' Keyword <br>\n",
    " &nbsp;&nbsp;&nbsp;&nbsp; d) Creating a Module <br>\n",
    "5) Exercises <br>\n",
    " &nbsp;&nbsp;&nbsp;&nbsp; a) Build a Shopping Cart <br>\n",
    " &nbsp;&nbsp;&nbsp;&nbsp; b) Create Your Own Module <br>"
   ]
  },
  {
   "cell_type": "markdown",
   "metadata": {},
   "source": [
    "## Dictionary <br>\n",
    "<p>A collection of data with 'key:value' pairs. Dictionaries are ordered as of Python 3.6</p>"
   ]
  },
  {
   "cell_type": "markdown",
   "metadata": {},
   "source": [
    "##### Declaring (key, value)"
   ]
  },
  {
   "cell_type": "code",
   "execution_count": 3,
   "metadata": {},
   "outputs": [],
   "source": [
    "dict1 = {}\n",
    "\n",
    "type(dict1)\n",
    "\n",
    "dict2 = dict()\n",
    "\n",
    "isinstance(dict2, dict)\n",
    "\n",
    "# syntax\n",
    "# dict name = {'key': 'value', 'key': 'value'}\n",
    "# always have key value pairs. Key value pair = 'key': 'value'\n",
    "\n",
    "dylan_dict = {'fav_data_type': 'dictionary', 'fav_language': 'python'}\n",
    "seans_dict = {'fav_language': 'javascript', 'fav_data_type': 'array'}\n",
    "\n",
    "dylan_list = ['dictionary', 'python']\n",
    "seans_list = ['javascript', 'array']"
   ]
  },
  {
   "cell_type": "markdown",
   "metadata": {},
   "source": [
    "##### Accessing Values"
   ]
  },
  {
   "cell_type": "code",
   "execution_count": 8,
   "metadata": {},
   "outputs": [
    {
     "data": {
      "text/plain": [
       "'python'"
      ]
     },
     "execution_count": 8,
     "metadata": {},
     "output_type": "execute_result"
    }
   ],
   "source": [
    "# to access the data, use dictionary[]\n",
    "# inside the [], goes the 'key' value. it would be located left the the :\n",
    "dylan_dict['fav_data_type']\n",
    "seans_dict['fav_data_type']\n",
    "\n",
    "dylan_dict.get('fav_language')"
   ]
  },
  {
   "cell_type": "markdown",
   "metadata": {},
   "source": [
    "## In-Class Exercise #1 - Print a formatted statement from the dictionary below <br>\n",
    "<p>The output should be '2018 Chevrolet Silverado'</p>"
   ]
  },
  {
   "cell_type": "code",
   "execution_count": 35,
   "metadata": {},
   "outputs": [
    {
     "name": "stdout",
     "output_type": "stream",
     "text": [
      "2018 Chevrolet Silverado\n"
     ]
    }
   ],
   "source": [
    "# use the dict below\n",
    "truck = {\n",
    "    'year': 2018,\n",
    "    'make': 'Chevrolet',\n",
    "    'model': 'Silverado'\n",
    "}\n",
    "\n",
    "print(f'{truck[\"year\"]} {truck[\"make\"]} {truck[\"model\"]}')"
   ]
  },
  {
   "cell_type": "markdown",
   "metadata": {},
   "source": [
    "##### Adding New Pairs"
   ]
  },
  {
   "cell_type": "code",
   "execution_count": 36,
   "metadata": {},
   "outputs": [
    {
     "name": "stdout",
     "output_type": "stream",
     "text": [
      "{'fav_data_type': 'dictionary', 'fav_language': 'python', 'new_key': 'new value'}\n",
      "{'year': 2018, 'make': 'Chevrolet', 'model': 'Silverado', 'color': 'hot pink'}\n"
     ]
    },
    {
     "data": {
      "text/plain": [
       "'hot pink'"
      ]
     },
     "execution_count": 36,
     "metadata": {},
     "output_type": "execute_result"
    }
   ],
   "source": [
    "# what this is saying is you use the syntax almost the same call function BUT you must assign it a value if\n",
    "# a value doesn't exist. So this statement is adding the \"new key\" 'key' value with a 'value' of 'value'\n",
    "\n",
    "dylan_dict['new_key'] =  'new value'\n",
    "\n",
    "print(dylan_dict)\n",
    "\n",
    "truck['color'] = 'hot pink'\n",
    "print(truck)\n",
    "\n",
    "truck['color']"
   ]
  },
  {
   "cell_type": "markdown",
   "metadata": {},
   "source": [
    "##### Modifying Values"
   ]
  },
  {
   "cell_type": "code",
   "execution_count": 32,
   "metadata": {},
   "outputs": [
    {
     "name": "stdout",
     "output_type": "stream",
     "text": [
      "{'year': 2018, 'make': 'Chevrolet', 'model': 'Silverado', 'color': 'hot pink'} before paint job\n",
      "{'year': 2018, 'make': 'Chevrolet', 'model': 'Silverado', 'color': 'blue'} after paint job\n"
     ]
    }
   ],
   "source": [
    "print(truck, 'before paint job')\n",
    "\n",
    "truck['color'] = 'blue'\n",
    "\n",
    "print(truck, 'after paint job')"
   ]
  },
  {
   "cell_type": "code",
   "execution_count": null,
   "metadata": {},
   "outputs": [],
   "source": [
    "sean_vehicle = {'car': [2020, 'red', 'x']}"
   ]
  },
  {
   "cell_type": "markdown",
   "metadata": {},
   "source": [
    "##### Removing Key, Value Pairs"
   ]
  },
  {
   "cell_type": "code",
   "execution_count": 33,
   "metadata": {},
   "outputs": [
    {
     "name": "stdout",
     "output_type": "stream",
     "text": [
      "{'year': 2018, 'make': 'Chevrolet', 'model': 'Silverado', 'color': 'blue'} before\n",
      "{'year': 2018, 'make': 'Chevrolet', 'model': 'Silverado'} after\n",
      "{'make': 'Chevrolet', 'model': 'Silverado'} after pop 2018\n",
      "<class 'int'>\n"
     ]
    }
   ],
   "source": [
    "# removing with del key word function\n",
    "print(truck, 'before')\n",
    "\n",
    "del truck['color']\n",
    "\n",
    "print(truck, 'after')\n",
    "\n",
    "# removing with pop function .pop()\n",
    "removed_value = truck.pop('year')\n",
    "print(truck, 'after pop', removed_value)"
   ]
  },
  {
   "cell_type": "code",
   "execution_count": 40,
   "metadata": {},
   "outputs": [
    {
     "data": {
      "text/plain": [
       "dict_values([2018, 'Chevrolet', 'Silverado', 'hot pink'])"
      ]
     },
     "execution_count": 40,
     "metadata": {},
     "output_type": "execute_result"
    }
   ],
   "source": [
    "# .items() makes it kind of like a list, but NOT a list so you wouldn't be able to do list functions to it like .append\n",
    "# but it gives list like object (NOT A LIST) of keys and values\n",
    "truck.items()\n",
    "\n",
    "# .keys() gives us a list like object (NOT A LIST) of just the keys\n",
    "truck.keys()\n",
    "\n",
    "# .values() gives us a list like object (NOT A LIST) of just the values \n",
    "truck.values()"
   ]
  },
  {
   "cell_type": "markdown",
   "metadata": {},
   "source": [
    "##### Looping a Dictionary"
   ]
  },
  {
   "cell_type": "code",
   "execution_count": 44,
   "metadata": {},
   "outputs": [
    {
     "name": "stdout",
     "output_type": "stream",
     "text": [
      "('year', 2018)\n",
      "('make', 'Chevrolet')\n",
      "('model', 'Silverado')\n",
      "('color', 'hot pink')\n"
     ]
    }
   ],
   "source": [
    "# .items()\n",
    "# a, b, c = 1, 2, 3\n",
    "# print(a)\n",
    "# print(b)\n",
    "# print(c)\n",
    "\n",
    "for t in truck.items():\n",
    "    print(t)\n"
   ]
  },
  {
   "cell_type": "code",
   "execution_count": 53,
   "metadata": {},
   "outputs": [
    {
     "name": "stdout",
     "output_type": "stream",
     "text": [
      "year 2018\n",
      "make Chevrolet\n",
      "model Silverado\n",
      "color hot pink\n"
     ]
    }
   ],
   "source": [
    "for t in truck.items():\n",
    "    print(t[0], t[1])"
   ]
  },
  {
   "cell_type": "code",
   "execution_count": 43,
   "metadata": {},
   "outputs": [
    {
     "name": "stdout",
     "output_type": "stream",
     "text": [
      "year 2018\n",
      "make Chevrolet\n",
      "model Silverado\n",
      "color hot pink\n"
     ]
    }
   ],
   "source": [
    "# same as above but different method\n",
    "for k,v in truck.items():\n",
    "    print(k,v)"
   ]
  },
  {
   "cell_type": "markdown",
   "metadata": {},
   "source": [
    "##### Looping Only Keys"
   ]
  },
  {
   "cell_type": "code",
   "execution_count": 50,
   "metadata": {},
   "outputs": [
    {
     "name": "stdout",
     "output_type": "stream",
     "text": [
      "('year', 2018)\n",
      "('make', 'Chevrolet')\n",
      "('model', 'Silverado')\n",
      "('color', 'hot pink')\n"
     ]
    }
   ],
   "source": [
    "# .keys()\n",
    "\n",
    "for k in truck.items():\n",
    "    print(k)"
   ]
  },
  {
   "cell_type": "code",
   "execution_count": 51,
   "metadata": {},
   "outputs": [
    {
     "name": "stdout",
     "output_type": "stream",
     "text": [
      "year 2018\n",
      "make Chevrolet\n",
      "model Silverado\n",
      "color hot pink\n"
     ]
    }
   ],
   "source": [
    "for k in truck.keys():\n",
    "    print(k, truck[k])"
   ]
  },
  {
   "cell_type": "markdown",
   "metadata": {},
   "source": [
    "##### Looping Only Values"
   ]
  },
  {
   "cell_type": "code",
   "execution_count": 52,
   "metadata": {},
   "outputs": [
    {
     "name": "stdout",
     "output_type": "stream",
     "text": [
      "2018\n",
      "Chevrolet\n",
      "Silverado\n",
      "hot pink\n"
     ]
    }
   ],
   "source": [
    "# .values()\n",
    "\n",
    "for v in truck.values():\n",
    "    print(v)"
   ]
  },
  {
   "cell_type": "markdown",
   "metadata": {},
   "source": [
    "## In-Class Exercise #2 - Create a Function that Prints All Key Value Pairs within a print .format() <br>\n",
    "<p><b>Output should be:</b><br>\n",
    "Max has blue eyes<br>\n",
    "Lilly has brown eyes<br>\n",
    "Barney has blue eyes<br>\n",
    "etc.\n",
    "</p>"
   ]
  },
  {
   "cell_type": "code",
   "execution_count": 69,
   "metadata": {},
   "outputs": [
    {
     "name": "stdout",
     "output_type": "stream",
     "text": [
      "Max has blue eyes\n",
      "Lilly has brown eyes\n",
      "Barney has blue eyes\n",
      "Larney has brown eyes\n",
      "Ted has purple eyes\n",
      "etc.\n"
     ]
    }
   ],
   "source": [
    "# use the dict below\n",
    "\n",
    "people = {\n",
    "    'Max': 'blue',\n",
    "    'Lilly': 'brown',\n",
    "    'Barney': 'blue',\n",
    "    'Larney': 'brown',\n",
    "    'Ted': 'purple'\n",
    "}\n",
    "\n",
    "\n",
    "def t_format(rand_dict):\n",
    "    for k,v in rand_dict.items():\n",
    "        print('{} has {} eyes'.format(k,v))\n",
    "    return 'etc.'\n",
    "        \n",
    "print(t_format(people))"
   ]
  },
  {
   "cell_type": "markdown",
   "metadata": {},
   "source": [
    "##### sorted()"
   ]
  },
  {
   "cell_type": "code",
   "execution_count": 74,
   "metadata": {},
   "outputs": [
    {
     "name": "stdout",
     "output_type": "stream",
     "text": [
      "['Barney', 'Larney', 'Lilly', 'Max', 'Ted']\n",
      "['blue', 'blue', 'brown', 'brown', 'purple']\n"
     ]
    },
    {
     "data": {
      "text/plain": [
       "['blue', 'blue', 'brown', 'brown', 'purple']"
      ]
     },
     "execution_count": 74,
     "metadata": {},
     "output_type": "execute_result"
    }
   ],
   "source": [
    "# sorts variables in order\n",
    "# sorted(dict.values()) or dict.keys() or dict.items()\n",
    "\n",
    "print(sorted(people))\n",
    "\n",
    "print(sorted([people[k] for k in people]))\n",
    "\n",
    "print(sorted(people.values()))\n"
   ]
  },
  {
   "cell_type": "markdown",
   "metadata": {},
   "source": [
    "##### List with Dictionaries"
   ]
  },
  {
   "cell_type": "code",
   "execution_count": 83,
   "metadata": {},
   "outputs": [
    {
     "name": "stdout",
     "output_type": "stream",
     "text": [
      "[{'fav_language': 'javascript', 'fav_data_type': 'array'}, {'fav_data_type': 'dictionary', 'fav_language': 'python'}]\n",
      "{'fav_language': 'javascript', 'fav_data_type': 'array'}\n",
      "{'fav_data_type': 'dictionary', 'fav_language': 'python'}\n"
     ]
    }
   ],
   "source": [
    "instructors = [seans_dict, dylan_dict]\n",
    "\n",
    "print(instructors)\n",
    "\n",
    "for d in instructors:\n",
    "    print(d)\n",
    "    "
   ]
  },
  {
   "cell_type": "code",
   "execution_count": 84,
   "metadata": {},
   "outputs": [
    {
     "name": "stdout",
     "output_type": "stream",
     "text": [
      "javascript array\n",
      "python dictionary\n"
     ]
    }
   ],
   "source": [
    "for d in instructors:\n",
    "    print(d['fav_language'], d['fav_data_type'])"
   ]
  },
  {
   "cell_type": "code",
   "execution_count": 85,
   "metadata": {},
   "outputs": [
    {
     "name": "stdout",
     "output_type": "stream",
     "text": [
      "fav_language javascript\n",
      "fav_data_type array\n",
      "fav_data_type dictionary\n",
      "fav_language python\n"
     ]
    }
   ],
   "source": [
    "for d in instructors:\n",
    "    for k,v in d.items():\n",
    "        print(k,v)"
   ]
  },
  {
   "cell_type": "code",
   "execution_count": 107,
   "metadata": {},
   "outputs": [
    {
     "name": "stdout",
     "output_type": "stream",
     "text": [
      "27\n",
      "bass\n",
      "m\n",
      "guitar\n",
      "guitar\n",
      "piano\n",
      "saxophone\n",
      "bass\n"
     ]
    }
   ],
   "source": [
    "rockstars = [\n",
    "    {\n",
    "        'name': 'Jimi',\n",
    "        'age': 30,\n",
    "#         note that instruments value is in [] because it is a list\n",
    "        'instruments': ['guitar']\n",
    "    },\n",
    "    {\n",
    "        'name': 'Janis Joplin',\n",
    "        'age': 27,\n",
    "        'instruments': ['guitar', 'piano']\n",
    "    },\n",
    "    {\n",
    "        'name': 'Sean Currie',\n",
    "        'age': 25,\n",
    "        'instruments': ['saxophone','bass']\n",
    "    },\n",
    "]\n",
    "\n",
    "# How to get specific data from the list above that has dictionaries in it\n",
    "\n",
    "# Grab Janis Joplin's age\n",
    "print(rockstars[1]['age'])\n",
    "\n",
    "# Grab Sean Currie's second instrument\n",
    "print(rockstars[2]['instruments'][1])\n",
    "\n",
    "# Grab the \"m\" in Jimi\n",
    "print(rockstars[0]['name'][2])\n",
    "\n",
    "# Programitcally print each instrument (something that can be applied regardless of how many instruments or dictionaries)\n",
    "for item in rockstars:\n",
    "    for instrument in item['instruments']:\n",
    "        print(instrument)\n"
   ]
  },
  {
   "cell_type": "markdown",
   "metadata": {},
   "source": [
    "##### Dictionaries with Lists"
   ]
  },
  {
   "cell_type": "code",
   "execution_count": null,
   "metadata": {},
   "outputs": [],
   "source": [
    "# be careful when using numbers as keys in dictionaries, don't confuse them with indexes\n",
    "\n",
    "# See above - notice how instruments is a key value in dictionary and it's a list\n",
    "\n",
    "sean_rockstar_dict = {\n",
    "        'name': 'Sean Currie',\n",
    "        'age': 25,\n",
    "        'instruments': ['saxophone','bass']\n",
    "    }\n",
    "\n",
    "print(sean_rockstar_dict['instruments'])\n",
    "print(sean_rockstar_dict['instruments'][-1])"
   ]
  },
  {
   "cell_type": "markdown",
   "metadata": {},
   "source": [
    "##### Dictionaries with Dictionaries"
   ]
  },
  {
   "cell_type": "code",
   "execution_count": 139,
   "metadata": {},
   "outputs": [
    {
     "name": "stdout",
     "output_type": "stream",
     "text": [
      "9.5\n",
      "6\n"
     ]
    }
   ],
   "source": [
    "# to get values, must traverse through keys\n",
    "\n",
    "shopping_cart = {\n",
    "    'milk': {\n",
    "        'price': 9.50,\n",
    "        'quantity': 1,\n",
    "    },\n",
    "    'bread': {\n",
    "        'price': 8.50,\n",
    "        'quantity': 2,\n",
    "    },\n",
    "    'eggs': {\n",
    "        'price': 7.99,\n",
    "        'quantity': 3,\n",
    "    },\n",
    "}\n",
    "\n",
    "# grab the price of milk\n",
    "print(shopping_cart['milk']['price'])\n",
    "\n",
    "# grab all quantities and sum them\n",
    "quantity = 0\n",
    "for produce in shopping_cart:\n",
    "    produce_quantity = shopping_cart[produce]['quantity']\n",
    "    quantity += produce_quantity\n",
    "print(quantity)\n"
   ]
  },
  {
   "cell_type": "code",
   "execution_count": 145,
   "metadata": {},
   "outputs": [
    {
     "name": "stdout",
     "output_type": "stream",
     "text": [
      "18\n"
     ]
    }
   ],
   "source": [
    "shopping_cart = {\n",
    "    'milk': {\n",
    "        'price': 9.50,\n",
    "        'quantity': 1,\n",
    "    },\n",
    "    'bread': {\n",
    "        'price': 8.50,\n",
    "        'quantity': 2,\n",
    "    },\n",
    "    'eggs': {\n",
    "        'price': 7.99,\n",
    "        'quantity': 3,\n",
    "    },\n",
    "}\n",
    "\n",
    "# Heather + Dylan Work Through\n",
    "total_quantity = 0\n",
    "shopping_cart.keys()\n",
    "for i in shopping_cart.keys():\n",
    "    for i in shopping_cart.keys():\n",
    "        total_quantity += shopping_cart[i]['quantity']\n",
    "print(total_quantity)"
   ]
  },
  {
   "cell_type": "markdown",
   "metadata": {},
   "source": [
    "## Dictionaries vs. Lists (over time) Example of RUNTIME\n",
    "### When inputting values in a Dictionary vs List"
   ]
  },
  {
   "cell_type": "code",
   "execution_count": 146,
   "metadata": {},
   "outputs": [],
   "source": [
    "import time\n",
    "\n",
    "\n",
    "# generate fake dictionary\n",
    "d = {}\n",
    "\n",
    "for i in range(10000000):\n",
    "    d[i] = 'value'\n",
    "    \n",
    "\n",
    "# generate fake list\n",
    "big_list = [x for x in range(10000000)]"
   ]
  },
  {
   "cell_type": "code",
   "execution_count": 147,
   "metadata": {},
   "outputs": [
    {
     "name": "stdout",
     "output_type": "stream",
     "text": [
      "value\n",
      "Elapsed time for dictionary: 0.0010004043579101562\n",
      "9999999\n",
      "Elapsed time for list: 0.4952976703643799\n"
     ]
    }
   ],
   "source": [
    "# tracking time for dictionary\n",
    "start_time = time.time()\n",
    "\n",
    "print(d[9999999])\n",
    "\n",
    "end_time = time.time() - start_time\n",
    "\n",
    "print('Elapsed time for dictionary: {}'.format(end_time))\n",
    "\n",
    "\n",
    "# tracking time for list\n",
    "start_time = time.time()\n",
    "\n",
    "for i in range(len(big_list)):\n",
    "    if i == 9999999:\n",
    "        print(i)\n",
    "\n",
    "end_time = time.time() - start_time\n",
    "\n",
    "print('Elapsed time for list: {}'.format(end_time))"
   ]
  },
  {
   "cell_type": "markdown",
   "metadata": {},
   "source": [
    "## Exercise #3 - Write a Function that asks someone's name and address, and then stores that into a dictionary, and continues to do so until they choose to 'quit'. Once they quit, the program should print all names and addresses. <br>\n",
    "<p>\n",
    "<b>Proper steps:</b><br>\n",
    "step 1: write a function that takes in information and stores it in a dictionary<br>\n",
    "step 2: define an empty dictionary to work with<br>\n",
    "step 3: create our loop, which asks the user for information until they quit<br>\n",
    "step 4: ask for the information, and store it into variables<br>\n",
    "step 5: check if the user types quit<br>\n",
    "step 5a: print out all information<br>\n",
    "step 5b: break out of the loop<br>\n",
    "step 6: if they didn't quit, add the information to the dictionary<br>\n",
    "step 7: invoke the function by calling it\n",
    "</p>"
   ]
  },
  {
   "cell_type": "code",
   "execution_count": 204,
   "metadata": {},
   "outputs": [
    {
     "name": "stdout",
     "output_type": "stream",
     "text": [
      "Enter your name: Name\n",
      "Enter your address: Address\n",
      "Enter your name: Name2\n",
      "Enter your address: Address2\n",
      "Enter your name: quit\n",
      "Address Book:\n",
      "Name: Name, Address: Address\n",
      "Name: Name2, Address: Address2\n"
     ]
    }
   ],
   "source": [
    "from IPython.display import clear_output\n",
    "\n",
    "\n",
    "address_book = {}\n",
    "\n",
    "def ask_info():\n",
    "    \n",
    "    while True:\n",
    "\n",
    "        name = input('Enter your name: ') \n",
    "        if name.lower() == 'quit':\n",
    "            break\n",
    "        \n",
    "        address = input('Enter your address: ')\n",
    "        if address.lower() == 'quit':\n",
    "            break\n",
    "        \n",
    "        address_book[name] = address\n",
    "        \n",
    "    print(\"Address Book:\")\n",
    "    for name, address in address_book.items():\n",
    "        print(f\"Name: {name}, Address: {address}\")\n",
    "\n",
    "\n",
    "\n",
    "ask_info()"
   ]
  },
  {
   "cell_type": "code",
   "execution_count": null,
   "metadata": {},
   "outputs": [],
   "source": []
  },
  {
   "cell_type": "markdown",
   "metadata": {},
   "source": [
    "## Set <br>\n",
    "<p>A Set is an unordered collection data type that is iterable (loop), mutable, and has no duplicate elements.<br>Major advantage is that it is highly optimized in checking if something is in the set, as opposed to checking if something is in a list.</p>"
   ]
  },
  {
   "cell_type": "markdown",
   "metadata": {},
   "source": [
    "##### Declaring"
   ]
  },
  {
   "cell_type": "code",
   "execution_count": null,
   "metadata": {},
   "outputs": [],
   "source": [
    "# set() or {}\n",
    "# no order {3, 2, 1} outputs as {1, 2, 3}\n"
   ]
  },
  {
   "cell_type": "markdown",
   "metadata": {},
   "source": [
    "##### .add()"
   ]
  },
  {
   "cell_type": "code",
   "execution_count": null,
   "metadata": {},
   "outputs": [],
   "source": [
    "# set.add()\n"
   ]
  },
  {
   "cell_type": "markdown",
   "metadata": {},
   "source": [
    "##### .remove()"
   ]
  },
  {
   "cell_type": "code",
   "execution_count": null,
   "metadata": {},
   "outputs": [],
   "source": [
    "# removes by value\n",
    "# set.remove()\n",
    "# nums.remove(56)\n",
    "\n"
   ]
  },
  {
   "cell_type": "markdown",
   "metadata": {},
   "source": [
    "##### .union() "
   ]
  },
  {
   "cell_type": "code",
   "execution_count": null,
   "metadata": {},
   "outputs": [],
   "source": [
    "# Returns a union of two sets, can also use '|' or set.union(set)\n",
    "# joins all numbers, gets rid of duplicates\n"
   ]
  },
  {
   "cell_type": "markdown",
   "metadata": {},
   "source": [
    "##### .intersection()"
   ]
  },
  {
   "cell_type": "code",
   "execution_count": null,
   "metadata": {},
   "outputs": [],
   "source": [
    "# Returns an intersection of two sets, can also use '&'\n",
    "# only takes similar elements from both sets\n",
    "\n"
   ]
  },
  {
   "cell_type": "markdown",
   "metadata": {},
   "source": [
    "##### .difference()"
   ]
  },
  {
   "cell_type": "code",
   "execution_count": null,
   "metadata": {},
   "outputs": [],
   "source": [
    "# Returns a set containing all the elements of invoking set that are not in the second set, can also use '-'\n",
    "# only takes values from the first set that are not in the second set\n",
    "# order matters\n",
    "\n"
   ]
  },
  {
   "cell_type": "markdown",
   "metadata": {},
   "source": [
    "##### .clear()"
   ]
  },
  {
   "cell_type": "code",
   "execution_count": null,
   "metadata": {},
   "outputs": [],
   "source": [
    "# Empties the whole set\n",
    "# set.clear()\n"
   ]
  },
  {
   "cell_type": "markdown",
   "metadata": {},
   "source": [
    "##### Frozenset <br>\n",
    "<p>Frozen sets are immutable objects that only support methods and operators that produce a result without affecting the frozen set or sets to which they are applied.</p><br><b>Unique & Immutable</b>"
   ]
  },
  {
   "cell_type": "code",
   "execution_count": null,
   "metadata": {},
   "outputs": [],
   "source": [
    "# frozenset([])\n"
   ]
  },
  {
   "cell_type": "markdown",
   "metadata": {},
   "source": [
    "## Modules"
   ]
  },
  {
   "cell_type": "markdown",
   "metadata": {},
   "source": [
    "##### Importing Entire Modules"
   ]
  },
  {
   "cell_type": "code",
   "execution_count": null,
   "metadata": {},
   "outputs": [],
   "source": [
    "# import or from 'xxx' import *\n",
    "# import math\n",
    "\n"
   ]
  },
  {
   "cell_type": "markdown",
   "metadata": {},
   "source": [
    "##### Importing Methods Only"
   ]
  },
  {
   "cell_type": "code",
   "execution_count": null,
   "metadata": {},
   "outputs": [],
   "source": [
    "# from 'xxx' import 'xxx'\n",
    "# from math import floor\n",
    "\n",
    "\n"
   ]
  },
  {
   "cell_type": "markdown",
   "metadata": {},
   "source": [
    "##### Using the 'as' Keyword"
   ]
  },
  {
   "cell_type": "code",
   "execution_count": null,
   "metadata": {},
   "outputs": [],
   "source": [
    "# from 'xxx' import 'xxx' as 'xxx' or import 'xxx' as 'xxx'\n",
    "# from math import floor as f\n"
   ]
  },
  {
   "cell_type": "markdown",
   "metadata": {},
   "source": [
    "##### Creating a Module"
   ]
  },
  {
   "cell_type": "code",
   "execution_count": null,
   "metadata": {},
   "outputs": [],
   "source": []
  },
  {
   "cell_type": "markdown",
   "metadata": {},
   "source": [
    "# Exercises"
   ]
  },
  {
   "cell_type": "markdown",
   "metadata": {},
   "source": [
    "### 1) Build a Shopping Cart <br>\n",
    "<p><b>You can use either lists or dictionaries. The program should have the following capabilities:</b><br><br>\n",
    "1) Takes in input <br>\n",
    "2) Stores user input into a dictionary or list <br>\n",
    "3) The User can add or delete items <br>\n",
    "4) The User can see current shopping list <br>\n",
    "5) The program Loops until user 'quits' <br>\n",
    "6) Upon quiting the program, print out all items in the user's list <br>\n",
    "</p>"
   ]
  },
  {
   "cell_type": "code",
   "execution_count": null,
   "metadata": {},
   "outputs": [],
   "source": [
    "from IPython.display import clear_output\n",
    "\n",
    "# Ask the user four bits of input: Do you want to : Show/Add/Delete or Quit?\n",
    "\n",
    "users_cart = {}\n",
    "shopping_list = {\n",
    "    'Weapon': 'Lightsaber',\n",
    "    'Clothing': 'Jedi Cloak',\n",
    "    'Food': 'Bantha Burger'\n",
    "}\n",
    "\n",
    "def shopping_cart(cart_func):\n",
    "    print(\"\\n Welcome to Ewok Thieves! How can we help you? \\n\")\n",
    "    print(\"\\n Please note that the 'cart' option will print what is in your cart and the 'show' option will print what we have in our shop \\n\")\n",
    "\n",
    "    while True:\n",
    "        \n",
    "        user_input = input(\"Do you want to: Show/Add/Delete/Cart or Quit? \")\n",
    "\n",
    "        if user_input.lower() == 'cart':\n",
    "            print(users_cart)\n",
    "\n",
    "        elif user_input.lower() == 'show':\n",
    "            print(shopping_list)\n",
    "\n",
    "        elif user_input.lower() == 'add':\n",
    "            add_cart = input(\"Please select what you would like to add to your cart (Weapon, Clothing, Food): \")\n",
    "            \n",
    "            if add_cart.lower() == 'weapon':\n",
    "                if 'Weapon' not in users_cart:\n",
    "                    users_cart['Weapon'] = {'Lightsaber': 1}\n",
    "                else:\n",
    "                    if 'Weapon' in users_cart:\n",
    "                        users_cart['Weapon']['Lightsaber'] += 1\n",
    "                    else:\n",
    "                        users_cart['Weapon']['Lightsaber'] = 1\n",
    "                print(\"Lightsaber has been added to your cart\")\n",
    "\n",
    "            if add_cart.lower() == 'clothing':\n",
    "                if 'Clothing' not in users_cart:\n",
    "                    users_cart['Clothing'] = {'Jedi Cloak': 1}\n",
    "                else:\n",
    "                    if 'Clothing' in users_cart:\n",
    "                        users_cart['Clothing']['Jedi Cloak'] += 1\n",
    "                    else:\n",
    "                        users_cart['Clothing']['Jedi Cloak'] = 1\n",
    "                print(\"Jedi Cloak has been added to your cart\")\n",
    "\n",
    "            if add_cart.lower() == 'food':\n",
    "                if 'Food' not in users_cart:\n",
    "                    users_cart['Food'] = {'Bantha Burger': 1}\n",
    "                else:\n",
    "                    if 'Food' in users_cart:\n",
    "                        users_cart['Food']['Bantha Burger'] += 1\n",
    "                    else:\n",
    "                        users_cart['Food']['Bantha Burger'] = 1\n",
    "                print(\"Bantha Burger has been added to your cart\")\n",
    "\n",
    "        elif user_input.lower() == 'delete':\n",
    "            print(users_cart)\n",
    "            remove_cart = input(\"Please select what you would like to remove from your cart (Weapon, Clothing, Food): \")\n",
    "\n",
    "            if remove_cart.lower() == 'weapon':\n",
    "                if users_cart['Weapon']['Lightsaber'] == 1:\n",
    "                    del users_cart['Weapon']\n",
    "                    print(\"Lightsaber has been removed from your cart\")\n",
    "                elif users_cart['Weapon']['Lightsaber'] > 1:\n",
    "                    users_cart['Weapon']['Lightsaber'] -= 1\n",
    "                    print(\"Lightsaber has been removed from your cart\")\n",
    "                else:\n",
    "                    print(\"Lightsaber not found in your cart\")\n",
    "\n",
    "            if remove_cart.lower() == 'clothing':\n",
    "                if users_cart['Clothing']['Jedi Cloak'] == 1:\n",
    "                    del users_cart['Clothing']\n",
    "                    print(\"Jedi Cloak has been removed from your cart\")\n",
    "                elif users_cart['Clothing']['Jedi Cloak'] > 1:\n",
    "                    users_cart['Clothing']['Jedi Cloak'] -= 1\n",
    "                    print(\"Jedi Cloakcart has been removed from your cart\")\n",
    "                else:\n",
    "                    print(\"Lightsaber not found in your cart\")\n",
    "\n",
    "            if remove_cart.lower() == 'food':\n",
    "                if users_cart['Food']['Bantha Burger'] == 1:\n",
    "                    del users_cart['Food']\n",
    "                    print(\"Bantha Burger has been removed from your cart\")\n",
    "                elif users_cart['Food']['Bantha Burger'] > 1:\n",
    "                    users_cart['Food']['Bantha Burger'] -= 1\n",
    "                    print(\"Bantha Burger has been removed from your cart\")\n",
    "                else:\n",
    "                    print(\"Bantha Burger not found in your cart\")\n",
    "\n",
    "        else:\n",
    "            print('\\n Bye bye! See you next time!\\n')\n",
    "            if 'Weapon' in users_cart or 'Clothing' in users_cart or 'Food' in users_cart:\n",
    "                print(\"You left while you still had the following items in your cart:\")\n",
    "                if 'Weapon' in users_cart and 'Lightsaber' in users_cart['Weapon']:\n",
    "                    print(f\"{users_cart['Weapon']['Lightsaber']} Lightsaber\")\n",
    "                if 'Clothing' in users_cart and 'Jedi Cloak' in users_cart['Clothing']:\n",
    "                    print(f\"{users_cart['Clothing']['Jedi Cloak']} Jedi Cloak\")\n",
    "                if 'Food' in users_cart and 'Bantha Burger' in users_cart['Food']:\n",
    "                    print(f\"{users_cart['Food']['Bantha Burger']} Bantha Burger\")\n",
    "            else:\n",
    "                print('You left the store and your cart was empty')\n",
    "            break\n",
    "\n",
    "\n",
    "\n",
    "shopping_cart(users_cart)\n",
    "    "
   ]
  },
  {
   "cell_type": "markdown",
   "metadata": {},
   "source": [
    "### 2) Create a Module in VS Code and Import It into jupyter notebook <br>\n",
    "<p><b>Module should have the following capabilities:</b><br><br>\n",
    "1) Has a function to calculate the square footage of a house <br>\n",
    "    <b>Reminder of Formula: Length X Width == Area<br>\n",
    "        <hr>\n",
    "2) Has a function to calculate the circumference of a circle <br><br>\n",
    "<b>Program in Jupyter Notebook should take in user input and use imported functions to calculate a circle's circumference or a houses square footage</b>\n",
    "</p>"
   ]
  },
  {
   "cell_type": "code",
   "execution_count": null,
   "metadata": {},
   "outputs": [],
   "source": []
  }
 ],
 "metadata": {
  "kernelspec": {
   "display_name": "Python 3 (ipykernel)",
   "language": "python",
   "name": "python3"
  },
  "language_info": {
   "codemirror_mode": {
    "name": "ipython",
    "version": 3
   },
   "file_extension": ".py",
   "mimetype": "text/x-python",
   "name": "python",
   "nbconvert_exporter": "python",
   "pygments_lexer": "ipython3",
   "version": "3.11.3"
  }
 },
 "nbformat": 4,
 "nbformat_minor": 2
}
